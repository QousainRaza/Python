{
 "cells": [
  {
   "cell_type": "markdown",
   "metadata": {},
   "source": [
    "## Variables"
   ]
  },
  {
   "cell_type": "code",
   "execution_count": null,
   "metadata": {},
   "outputs": [],
   "source": [
    "##declaring and assigning variables\n",
    "age=21\n",
    "height=5.3\n",
    "name=\"Qousain Raza\"\n",
    "is_student=True\n",
    "print(\"AGE:\",age)\n",
    "print(\"Height:\",height)  \n",
    "print(\"Name:\",name)"
   ]
  },
  {
   "cell_type": "code",
   "execution_count": null,
   "metadata": {},
   "outputs": [],
   "source": [
    "print(\"Qousain Raza is my name and I am learing python From Basics\")"
   ]
  },
  {
   "cell_type": "code",
   "execution_count": null,
   "metadata": {},
   "outputs": [],
   "source": [
    "print(\"Hello World\")"
   ]
  },
  {
   "cell_type": "markdown",
   "metadata": {},
   "source": [
    "Naming Convetion"
   ]
  },
  {
   "cell_type": "code",
   "execution_count": null,
   "metadata": {},
   "outputs": [],
   "source": [
    "##Variables names should be descriptive\n",
    "## They must be staet with letter or an \"_\"\n",
    "## Variables names case sensitive\n",
    "\n",
    "## valid varaibles names\n",
    "first_name = \"Qousain\"\n",
    "last_name = \"Raza\"\n",
    "\n",
    "## Invalid varaibles names\n",
    "# 2age =30\n",
    "#first-name = \"Qousain\"\n",
    "## @name = \"Krish\""
   ]
  },
  {
   "cell_type": "markdown",
   "metadata": {},
   "source": [
    "Variable types\n"
   ]
  },
  {
   "cell_type": "code",
   "execution_count": null,
   "metadata": {},
   "outputs": [],
   "source": [
    "## python is dynamically taped, types of a varaible is determined at a runtime\n",
    "age=21\n",
    "height=5.3\n",
    "name=\"Qousain Raza\"\n",
    "is_student=True\n",
    "\n",
    "print(type(age))\n",
    "print(type(height))\n",
    "print(type(name))\n",
    "print(type(is_student))"
   ]
  },
  {
   "cell_type": "code",
   "execution_count": null,
   "metadata": {},
   "outputs": [],
   "source": [
    "age =25\n",
    "print(type(age))\n",
    "## Tpye coversation\n",
    "\n",
    "agr_str=str(age)\n",
    "print(agr_str)\n",
    "print(type(agr_str))"
   ]
  },
  {
   "cell_type": "code",
   "execution_count": null,
   "metadata": {},
   "outputs": [],
   "source": [
    "age = \"25\"\n",
    "print(type(int(age)))"
   ]
  },
  {
   "cell_type": "code",
   "execution_count": null,
   "metadata": {},
   "outputs": [],
   "source": [
    "name = \"Qousain\"\n",
    "int(name)\n",
    "print(type(name))"
   ]
  },
  {
   "cell_type": "code",
   "execution_count": null,
   "metadata": {},
   "outputs": [],
   "source": [
    "## Dynamic typing\n",
    "## python allows the type of a variables to change as the PROGRAM EXECUTION\n",
    "var =10\n",
    "print(var,type(var))\n",
    "\n",
    "var = \"Hello Word!\"\n",
    "print(var,type(var))\n",
    "\n",
    "var =3.14\n",
    "print(var,type(var))"
   ]
  },
  {
   "cell_type": "code",
   "execution_count": 3,
   "metadata": {},
   "outputs": [
    {
     "name": "stdout",
     "output_type": "stream",
     "text": [
      "2.25 <class 'str'>\n"
     ]
    }
   ],
   "source": [
    "## input\n",
    "\n",
    "age=input(\"What is your age: \")\n",
    "print(age,type(age))"
   ]
  },
  {
   "cell_type": "code",
   "execution_count": 4,
   "metadata": {},
   "outputs": [
    {
     "name": "stdout",
     "output_type": "stream",
     "text": [
      "sum: 15.0\n",
      "differece: 5.0\n",
      "produtct: 50.0\n",
      "Qoutient: 1.0\n"
     ]
    }
   ],
   "source": [
    "## Simple Calculator\n",
    "\n",
    "num1 = float(input(\"Enter first number: \"))\n",
    "num2 = float(input(\"Enter the second number: \"))\n",
    "\n",
    "sum = num1 + num2\n",
    "diference = num1-num2\n",
    "product = num1*num2\n",
    "qoutient= num1/num1\n",
    "\n",
    "print(\"sum:\",sum)\n",
    "print(\"differece:\",diference)\n",
    "print(\"produtct:\",product)\n",
    "print(\"Qoutient:\",qoutient)"
   ]
  },
  {
   "cell_type": "code",
   "execution_count": null,
   "metadata": {},
   "outputs": [],
   "source": []
  }
 ],
 "metadata": {
  "kernelspec": {
   "display_name": "venv",
   "language": "python",
   "name": "python3"
  },
  "language_info": {
   "codemirror_mode": {
    "name": "ipython",
    "version": 3
   },
   "file_extension": ".py",
   "mimetype": "text/x-python",
   "name": "python",
   "nbconvert_exporter": "python",
   "pygments_lexer": "ipython3",
   "version": "3.12.0"
  }
 },
 "nbformat": 4,
 "nbformat_minor": 2
}
